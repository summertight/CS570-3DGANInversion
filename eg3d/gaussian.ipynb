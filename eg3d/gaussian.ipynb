{
 "cells": [
  {
   "cell_type": "code",
   "execution_count": 1,
   "metadata": {},
   "outputs": [],
   "source": [
    "import torch\n",
    "def get_gaussian_maps(mu, shape_hw, inv_std, mode='rot'):\n",
    "  \"\"\"\n",
    "  Generates [B,SHAPE_H,SHAPE_W,NMAPS] tensor of 2D gaussians,\n",
    "  given the gaussian centers: MU [B, NMAPS, 2] tensor.\n",
    "  STD: is the fixed standard dev.\n",
    "  \"\"\"\n",
    "\n",
    "  mu_y, mu_x = mu[:, :, 0:1], mu[:, :, 1:2]\n",
    "\n",
    "  #y = tf.to_float(tf.linspace(-1.0, 1.0, shape_hw[0]))\n",
    "  y = torch.linspace(-1.0, 1.0, shape_hw[0])\n",
    "  x = torch.linspace(-1.0, 1.0, shape_hw[1])\n",
    "  \n",
    "  \n",
    "  if mode in ['rot', 'flat']:\n",
    "    #mu_y, mu_x = tf.expand_dims(mu_y, -1), tf.expand_dims(mu_x, -1)\n",
    "    mu_y, mu_x = mu_y.unsqueeze(-1), mu_x.unsqueeze(-1)\n",
    "    y = torch.reshape(y, [1, 1, shape_hw[0], 1])\n",
    "    x = torch.reshape(x, [1, 1, 1, shape_hw[1]])\n",
    "\n",
    "    g_y = torch.square(y - mu_y)\n",
    "    g_x = torch.square(x - mu_x)\n",
    "    dist = (g_y + g_x) * inv_std**2\n",
    "\n",
    "    if mode == 'rot':\n",
    "      g_yx = torch.exp(-dist)\n",
    "    else:\n",
    "      g_yx = torch.exp(-torch.pow(dist + 1e-5, 0.25))\n",
    "  \n",
    "  elif mode == 'ankush':\n",
    "    #y = tf.reshape(y, [1, 1, shape_hw[0]])\n",
    "    y = y.reshape(1, 1, shape_hw[0])\n",
    "    x = x.reshape(1, 1, shape_hw[1])\n",
    "\n",
    "    g_y = torch.exp(-torch.sqrt(1e-4 + torch.abs((mu_y - y) * inv_std)))\n",
    "    g_x = torch.exp(-torch.sqrt(1e-4 + torch.abs((mu_x - x) * inv_std)))\n",
    "\n",
    "    #g_y = torch.expand_dims(g_y, axis=3)\n",
    "    g_y = g_y.unsqueeze(3)\n",
    "    #g_x = torch.expand_dims(g_x, axis=2)\n",
    "    g_x = g_x.unsqueeze(2)\n",
    "    g_yx = torch.matmul(g_y, g_x)  # [B, NMAPS, H, W]\n",
    "\n",
    "  else:\n",
    "    raise ValueError('Unknown mode: ' + str(mode))\n",
    "\n",
    "  g_yx = g_yx.permute((0, 2, 3, 1))\n",
    "  return g_yx"
   ]
  },
  {
   "cell_type": "code",
   "execution_count": 23,
   "metadata": {},
   "outputs": [],
   "source": [
    "def denorm(x):\n",
    "    return (x / 2 + 0.5).clamp(0, 1)"
   ]
  },
  {
   "cell_type": "code",
   "execution_count": 54,
   "metadata": {},
   "outputs": [
    {
     "name": "stdout",
     "output_type": "stream",
     "text": [
      "tensor(0.8734)\n"
     ]
    }
   ],
   "source": [
    "from training.mobile_face_net import load_face_landmark_detector\n",
    "\n",
    "\n",
    "landmark_detector = load_face_landmark_detector()\n",
    "landmark_detector = landmark_detector.to('cpu')\n",
    "landmark_detector.eval()\n",
    "import imageio as io\n",
    "\n",
    "img = torch.tensor(io.imread('/home/nas4_user/jaeseonglee/ICCV2023/eg3d/eg3d/inthewild_data/candal.png'),dtype=torch.float32).permute((2,0,1)).unsqueeze(0)\n",
    "ldmks,M,m = landmark_detector.get_face_landmark(img/255)"
   ]
  },
  {
   "cell_type": "code",
   "execution_count": 55,
   "metadata": {},
   "outputs": [
    {
     "data": {
      "text/plain": [
       "(tensor(447.1656), tensor(92.5041), tensor(255.), tensor(0.))"
      ]
     },
     "execution_count": 55,
     "metadata": {},
     "output_type": "execute_result"
    }
   ],
   "source": [
    "ldmks.max(),ldmks.min(),img.max(),img.min()"
   ]
  },
  {
   "cell_type": "code",
   "execution_count": null,
   "metadata": {},
   "outputs": [],
   "source": [
    "def draw_image_landmarks(image, points):\n",
    "    \"\"\" draw landmarks over the image and return the figure\n",
    "    \n",
    "    :param image: np.array<height, width, 3>\n",
    "    :param points: np.array<nb_points, 2>\n",
    "    :return: object\n",
    "    \"\"\"\n",
    "    import numpy as np\n",
    "    shape = np.array(image.shape[:2])\n",
    "    fig_size = shape / float(max(shape)) * FIG_MAX_SIZE\n",
    "    fig_size = np.array(fig_size).tolist()[-1::-1]\n",
    "    fig = plt.figure(figsize=fig_size)\n",
    "    ax = fig.gca()\n",
    "    ax.imshow(image)\n",
    "    ax.plot(points[:, 1], points[:, 0], 'o', color='k')\n",
    "    ax.plot(points[:, 1], points[:, 0], '.', color='w')\n",
    "    ax.get_xaxis().set_visible(False)\n",
    "    ax.get_yaxis().set_visible(False)\n",
    "    ax.set_xlim(0, shape[1])\n",
    "    ax.set_ylim(shape[0], 0)\n",
    "    fig.tight_layout()\n",
    "    return fig "
   ]
  },
  {
   "cell_type": "code",
   "execution_count": 56,
   "metadata": {},
   "outputs": [],
   "source": [
    "heatmap = get_gaussian_maps(ldmks/512,  [112,112], 1/.1)"
   ]
  },
  {
   "cell_type": "code",
   "execution_count": 57,
   "metadata": {},
   "outputs": [],
   "source": [
    "heatmap= heatmap[0]"
   ]
  },
  {
   "cell_type": "code",
   "execution_count": 66,
   "metadata": {},
   "outputs": [
    {
     "data": {
      "text/plain": [
       "(tensor(0.9928), torch.Size([112, 112, 68]))"
      ]
     },
     "execution_count": 66,
     "metadata": {},
     "output_type": "execute_result"
    }
   ],
   "source": [
    "\n",
    "heatmap[...,5].max(),heatmap.shape"
   ]
  },
  {
   "cell_type": "code",
   "execution_count": 60,
   "metadata": {},
   "outputs": [
    {
     "data": {
      "text/plain": [
       "<matplotlib.image.AxesImage at 0x7fe5b380c4c0>"
      ]
     },
     "execution_count": 60,
     "metadata": {},
     "output_type": "execute_result"
    },
    {
     "data": {
      "image/png": "[encoded data removed]",
      "text/plain": [
       "<Figure size 640x480 with 1 Axes>"
      ]
     },
     "metadata": {},
     "output_type": "display_data"
    }
   ],
   "source": [
    "import matplotlib.pyplot as plt\n",
    "\n",
    "#plt.imshow(heatmap[...,].sum(-1)*112)"
   ]
  },
  {
   "cell_type": "code",
   "execution_count": 76,
   "metadata": {},
   "outputs": [
    {
     "data": {
      "text/plain": [
       "<matplotlib.image.AxesImage at 0x7fe5b33bc790>"
      ]
     },
     "execution_count": 76,
     "metadata": {},
     "output_type": "execute_result"
    },
    {
     "data": {
      "image/png": "[encoded data removed]",
      "text/plain": [
       "<Figure size 640x480 with 1 Axes>"
      ]
     },
     "metadata": {},
     "output_type": "display_data"
    }
   ],
   "source": [
    "plt.imshow(heatmap[...,9])"
   ]
  }
 ],
 "metadata": {
  "interpreter": {
   "hash": "0bb6792443ea76f95f4995f3dc1b51830e8cc8a7415a3e8faf8e36e9c9d2c040"
  },
  "kernelspec": {
   "display_name": "Python 3.9.15 ('eg3d')",
   "language": "python",
   "name": "python3"
  },
  "language_info": {
   "codemirror_mode": {
    "name": "ipython",
    "version": 3
   },
   "file_extension": ".py",
   "mimetype": "text/x-python",
   "name": "python",
   "nbconvert_exporter": "python",
   "pygments_lexer": "ipython3",
   "version": "3.9.15"
  },
  "orig_nbformat": 4
 },
 "nbformat": 4,
 "nbformat_minor": 2
}
