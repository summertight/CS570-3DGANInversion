{
 "cells": [
  {
   "cell_type": "code",
   "execution_count": 3,
   "metadata": {},
   "outputs": [
    {
     "name": "stdout",
     "output_type": "stream",
     "text": [
      "1\n",
      "1\n",
      "1\n",
      "1\n",
      "1\n",
      "1\n",
      "1\n",
      "1\n",
      "1\n",
      "1\n",
      "1\n",
      "1\n",
      "1\n",
      "1\n",
      "1\n",
      "1\n",
      "1\n",
      "1\n",
      "1\n",
      "1\n",
      "1\n",
      "1\n",
      "1\n",
      "1\n",
      "1\n",
      "1\n",
      "1\n",
      "1\n",
      "1\n",
      "1\n",
      "1\n",
      "1\n",
      "1\n",
      "1\n",
      "1\n",
      "1\n",
      "1\n",
      "1\n",
      "1\n",
      "1\n",
      "1\n",
      "1\n",
      "1\n",
      "1\n",
      "1\n",
      "1\n",
      "1\n",
      "1\n",
      "1\n",
      "1\n",
      "1\n"
     ]
    },
    {
     "name": "stderr",
     "output_type": "stream",
     "text": [
      "OpenCV: FFMPEG: tag 0x58564944/'DIVX' is not supported with codec id 12 and format 'mp4 / MP4 (MPEG-4 Part 14)'\n",
      "OpenCV: FFMPEG: fallback to use tag 0x7634706d/'mp4v'\n"
     ]
    }
   ],
   "source": [
    "image_path = '/home/nas4_user/jaeseonglee/ICCV2023/eg3d/eg3d/out_inversion_l1_vgg_raw'\n",
    "name = 'seed0000'\n",
    "path_out = f'{image_path}/{name}.mp4'\n",
    "fps = 15\n",
    "import cv2, os\n",
    "frame_array = []\n",
    "paths = [os.path.join(image_path, i) for i in os.listdir(image_path)]\n",
    "\n",
    "for path in paths:\n",
    "    if path.split('/')[-1].split('_')[0] == name:\n",
    "        print('1')\n",
    "        img = cv2.imread(path)\n",
    "        height, width, layers = img.shape\n",
    "        size = (width,height)\n",
    "        frame_array.append(img)\n",
    "out = cv2.VideoWriter(path_out,cv2.VideoWriter_fourcc(*'DIVX'), fps, size)\n",
    "for i in range(len(frame_array)):\n",
    "    # writing to a image array\n",
    "    out.write(frame_array[i])\n",
    "out.release()"
   ]
  }
 ],
 "metadata": {
  "interpreter": {
   "hash": "0bb6792443ea76f95f4995f3dc1b51830e8cc8a7415a3e8faf8e36e9c9d2c040"
  },
  "kernelspec": {
   "display_name": "Python 3.9.13 ('eg3d')",
   "language": "python",
   "name": "python3"
  },
  "language_info": {
   "codemirror_mode": {
    "name": "ipython",
    "version": 3
   },
   "file_extension": ".py",
   "mimetype": "text/x-python",
   "name": "python",
   "nbconvert_exporter": "python",
   "pygments_lexer": "ipython3",
   "version": "3.9.13"
  },
  "orig_nbformat": 4
 },
 "nbformat": 4,
 "nbformat_minor": 2
}
