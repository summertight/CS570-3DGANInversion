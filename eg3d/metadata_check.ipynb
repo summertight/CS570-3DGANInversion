{
 "cells": [
  {
   "cell_type": "code",
   "execution_count": 2,
   "metadata": {},
   "outputs": [],
   "source": [
    "json_spec = dict(file_url='https://drive.google.com/uc?id=16N0RV4fHI6joBuKbQAoG34V_cQk7vxSA', file_path='ffhq-dataset-v2.json', file_size=267793842, file_md5='425ae20f06a4da1d4dc0f46d40ba5fd6')\n",
    "from collections import OrderedDict, defaultdict\n",
    "import json, os\n",
    "with open(os.path.join('/home/nas4_user/jaeseonglee/ICCV2023/eg3d/eg3d',json_spec['file_path']), 'rb') as f:\n",
    "    json_data = json.load(f, object_pairs_hook=OrderedDict)"
   ]
  },
  {
   "cell_type": "code",
   "execution_count": 15,
   "metadata": {},
   "outputs": [
    {
     "data": {
      "text/plain": [
       "array([1970., 1994., 2030., 2058., 2126., 2230., 2358., 2494., 2642.,\n",
       "       2794., 2914., 3034., 3142., 3214., 3246., 3286., 3310., 2074.,\n",
       "       2158., 2290., 2418., 2542., 2730., 2850., 2986., 3118., 3210.,\n",
       "       2634., 2638., 2642., 2650., 2474., 2562., 2650., 2738., 2822.,\n",
       "       2202., 2282., 2370., 2454., 2366., 2274., 2830., 2906., 2998.,\n",
       "       3082., 3006., 2914., 2338., 2446., 2562., 2654., 2738., 2854.,\n",
       "       2962., 2854., 2742., 2650., 2554., 2442., 2378., 2562., 2654.,\n",
       "       2738., 2926., 2738., 2650., 2558.])"
      ]
     },
     "execution_count": 15,
     "metadata": {},
     "output_type": "execute_result"
    }
   ],
   "source": [
    "import random\n",
    "import numpy as np\n",
    "key = random.choice(list(json_data.keys()))\n",
    "\n",
    "lm = np.array(json_data[key]['in_the_wild']['face_landmarks'])\n"
   ]
  },
  {
   "cell_type": "code",
   "execution_count": 26,
   "metadata": {},
   "outputs": [],
   "source": [
    "lm_chin          = lm[0  : 17]  # left-right\n",
    "lm_eyebrow_left  = lm[17 : 22]  # left-right\n",
    "lm_eyebrow_right = lm[22 : 27]  # left-right\n",
    "lm_nose          = lm[27 : 31]  # top-down\n",
    "lm_nostrils      = lm[31 : 36]  # top-down\n",
    "lm_eye_left      = lm[36 : 42]  # left-clockwise\n",
    "lm_eye_right     = lm[42 : 48]  # left-clockwise\n",
    "lm_mouth_outer   = lm[48 : 60]  # left-clockwise\n",
    "lm_mouth_inner   = lm[60 : 68]  # left-clockwise\n",
    "\n",
    "# Calculate auxiliary vectors.\n",
    "eye_left     = np.mean(lm_eye_left, axis=0)\n",
    "eye_right    = np.mean(lm_eye_right, axis=0)\n",
    "eye_avg      = (eye_left + eye_right) * 0.5\n",
    "eye_to_eye   = eye_right - eye_left\n",
    "mouth_left   = lm_mouth_outer[0]\n",
    "mouth_right  = lm_mouth_outer[6]\n",
    "mouth_avg    = (mouth_left + mouth_right) * 0.5\n",
    "eye_to_mouth = mouth_avg - eye_avg\n",
    "\n",
    "# Choose oriented crop rectangle.\n",
    "x = eye_to_eye - np.flipud(eye_to_mouth) * [-1, 1]\n",
    "\n",
    "x /= np.hypot(*x)\n",
    "temp_x = x\n",
    "x *= max(np.hypot(*eye_to_eye) * 2.0, np.hypot(*eye_to_mouth) * 1.8)\n",
    "y = np.flipud(x) * [-1, 1]\n",
    "q_scale = 1.8\n",
    "x = q_scale * x\n",
    "y = q_scale * y\n",
    "c = eye_avg + eye_to_mouth * 0.1\n",
    "quad = np.stack([c - x - y, c - x + y, c + x + y, c + x - y])\n",
    "qsize = np.hypot(*x) * 2"
   ]
  },
  {
   "cell_type": "code",
   "execution_count": 27,
   "metadata": {},
   "outputs": [
    {
     "data": {
      "text/plain": [
       "<matplotlib.collections.PathCollection at 0x7f04537e8880>"
      ]
     },
     "execution_count": 27,
     "metadata": {},
     "output_type": "execute_result"
    },
    {
     "data": {
      "image/png": "[encoded data removed]",
      "text/plain": [
       "<Figure size 640x480 with 1 Axes>"
      ]
     },
     "metadata": {},
     "output_type": "display_data"
    }
   ],
   "source": [
    "import matplotlib.pyplot as plt\n",
    "\n",
    "\n",
    "core_pts = np.concatenate([eye_left.reshape(1,2),eye_right.reshape(1,2),\\\n",
    "    mouth_avg.reshape(1,2),eye_avg.reshape(1,2),x.reshape(1,2)],0)\n",
    "\n",
    "plt.scatter(lm[:,0],-lm[:,-1])\n",
    "\n",
    "\n",
    "plt.scatter(core_pts[:,0], -core_pts[:,1])"
   ]
  },
  {
   "cell_type": "code",
   "execution_count": 23,
   "metadata": {},
   "outputs": [
    {
     "data": {
      "text/plain": [
       "(array([  9.66666667, 550.33333333]), array([550.33333333,   9.66666667]))"
      ]
     },
     "execution_count": 23,
     "metadata": {},
     "output_type": "execute_result"
    }
   ],
   "source": [
    "eye_to_mouth,np.flipud(eye_to_mouth)"
   ]
  },
  {
   "cell_type": "code",
   "execution_count": null,
   "metadata": {},
   "outputs": [],
   "source": []
  }
 ],
 "metadata": {
  "interpreter": {
   "hash": "0bb6792443ea76f95f4995f3dc1b51830e8cc8a7415a3e8faf8e36e9c9d2c040"
  },
  "kernelspec": {
   "display_name": "Python 3.9.13 ('eg3d': conda)",
   "language": "python",
   "name": "python3"
  },
  "language_info": {
   "codemirror_mode": {
    "name": "ipython",
    "version": 3
   },
   "file_extension": ".py",
   "mimetype": "text/x-python",
   "name": "python",
   "nbconvert_exporter": "python",
   "pygments_lexer": "ipython3",
   "version": "3.9.13"
  },
  "orig_nbformat": 4
 },
 "nbformat": 4,
 "nbformat_minor": 2
}
